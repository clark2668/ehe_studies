{
 "cells": [
  {
   "cell_type": "code",
   "execution_count": null,
   "metadata": {},
   "outputs": [],
   "source": [
    "import numpy as np #import numpy\n",
    "import matplotlib.pyplot as plt #import matplotlib\n",
    "from matplotlib.pyplot import rcParams\n",
    "rcParams['mathtext.default'] = 'regular'\n",
    "import math\n",
    "from pylab import setp\n",
    "import helper"
   ]
  },
  {
   "cell_type": "code",
   "execution_count": null,
   "metadata": {},
   "outputs": [],
   "source": [
    "picke = 3E7\n",
    "\n",
    "# ehe\n",
    "energy_bins_GeV, czen_bins, aeff_m2 = helper.get_aeff_vs_zen('ehenextgen')\n",
    "idx, en = helper.find_nearest_energy_bin(energy_bins_GeV, picke)\n",
    "print(idx, en/1E6)"
   ]
  },
  {
   "cell_type": "code",
   "execution_count": null,
   "metadata": {},
   "outputs": [],
   "source": [
    "# northern tracks\n",
    "import os\n",
    "localpath = os.getcwd()\n",
    "cos_edges_nt = np.load(os.path.join(localpath, \"nt\",\"coszen_bin_edges_31.npy\"))\n",
    "cos_bin_width_nt = np.abs(cos_edges_nt[2] - cos_edges_nt[1])\n",
    "E_edges   = np.load(os.path.join(localpath, \"nt\",\"log_E_GeV_bin_edges_60.npy\"))\n",
    "idx_nt, en_nt = helper.find_nearest_energy_bin(E_edges,picke)\n",
    "print(idx_nt, en_nt/1E6)\n",
    "\n",
    "aeff = np.load(os.path.join(localpath, \"nt\", \"effective_area_59x30.npy\"))\n",
    "aeff_nt = np.asarray(aeff)\n",
    "print(aeff_nt.shape)\n"
   ]
  },
  {
   "cell_type": "code",
   "execution_count": null,
   "metadata": {},
   "outputs": [],
   "source": [
    "czen_bin_centers = helper.get_bin_centers(czen_bins)\n",
    "czen_bin_centers_nt = helper.get_bin_centers(cos_edges_nt)"
   ]
  },
  {
   "cell_type": "code",
   "execution_count": null,
   "metadata": {},
   "outputs": [],
   "source": [
    "fig, ax = plt.subplots(1, 1, figsize=(5,5))\n",
    "n, b, p = ax.hist(\n",
    "    czen_bin_centers, bins=czen_bins, weights=aeff_m2[:,idx]*cos_bin_width_nt,\n",
    "    histtype='step', color='grey',lw=2.5,density=True\n",
    ")\n",
    "print(np.sum(aeff_m2[:,idx])*cos_bin_width_nt)\n",
    "print(np.sum(aeff_nt[idx_nt,:][::-1])*cos_bin_width_nt)\n",
    "# reverse order for plotting\n",
    "# czen_bin_centers_nt = czen_bin_centers_nt[::-1]\n",
    "cos_edges_nt = cos_edges_nt[::-1]\n",
    "these_weights = aeff_nt[idx_nt,:][::-1]*cos_bin_width_nt/3\n",
    "n, b, p = ax.hist(\n",
    "    czen_bin_centers_nt[::-1], bins=cos_edges_nt, weights=these_weights,\n",
    "    histtype='step',color='blue',lw=2.5,density=True\n",
    ")\n",
    "# ax.set_yscale('log')"
   ]
  },
  {
   "cell_type": "code",
   "execution_count": null,
   "metadata": {},
   "outputs": [],
   "source": [
    "\n",
    "# xlow =  3.e15 #the lower x limit\n",
    "# xup = 2E20 #the uppper x limit\n",
    "\n",
    "# def beautify_counts(this_ax):\n",
    "#     sizer=25\n",
    "#     this_ax.set_xlabel('Energy [eV]',size=sizer) #give it a title\n",
    "#     this_ax.set_ylabel('Events',size=sizer)\n",
    "#     this_ax.set_xscale('log')\n",
    "#     this_ax.tick_params(labelsize=sizer)\n",
    "#     this_ax.set_xlim([xlow,xup]) #set the x limits of the plot\n",
    "#     this_ax.set_ylim([0,7]) #set the x limits of the plot\n",
    "#     this_legend = this_ax.legend(loc='upper right')#,title='Trigger-Level Event Counts')\n",
    "#     setp(this_legend.get_texts(), fontsize=20)\n",
    "#     setp(this_legend.get_title(), fontsize=20)\n",
    "#     this_legend.get_frame().set_edgecolor('k')\n",
    "#     this_ax.xaxis.set_ticks([1e15, 1e17, 1e19])\n",
    "#     this_ax.yaxis.set_ticks([1,2,3,4,5,6,7])\n",
    "#     # this_ax.grid()\n",
    "\n",
    "# #pass it the axes and the number of theory curves you're including\n",
    "# #always pass the theory curves first\n",
    "# def beautify_limit_withtheory(this_ax):\n",
    "#     sizer=25\n",
    "#     ylow = 1e-20 #the lower y limit\n",
    "#     yup = 1e-13 #the upper y limit\n",
    "#     this_ax.set_xlabel('Energy [eV]',size=sizer) #give it a title\n",
    "#     this_ax.set_ylabel('E F(E) [$cm^{-2} s^{-1} sr^{-1}$]',size=sizer)\n",
    "#     this_ax.set_yscale('log')\n",
    "#     this_ax.set_xscale('log')\n",
    "#     this_ax.tick_params(labelsize=sizer)\n",
    "#     this_ax.set_xlim([xlow,xup]) #set the x limits of the plot\n",
    "#     this_ax.set_ylim([ylow,yup]) #set the y limits of the plot\n",
    "#     this_ax.yaxis.set_ticks([1e-18, 1e-16, 1e-14])\n",
    "#     this_ax.xaxis.set_ticks([1e15, 1e17, 1e19])\n",
    "#     # this_ax.grid()"
   ]
  }
 ],
 "metadata": {
  "kernelspec": {
   "display_name": "ehe",
   "language": "python",
   "name": "python3"
  },
  "language_info": {
   "codemirror_mode": {
    "name": "ipython",
    "version": 3
   },
   "file_extension": ".py",
   "mimetype": "text/x-python",
   "name": "python",
   "nbconvert_exporter": "python",
   "pygments_lexer": "ipython3"
  }
 },
 "nbformat": 4,
 "nbformat_minor": 2
}
