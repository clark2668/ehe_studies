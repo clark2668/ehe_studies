{
 "cells": [
  {
   "cell_type": "code",
   "execution_count": null,
   "metadata": {},
   "outputs": [],
   "source": [
    "import numpy as np #import numpy\n",
    "import matplotlib.pyplot as plt #import matplotlib\n",
    "from matplotlib.pyplot import rcParams\n",
    "rcParams['mathtext.default'] = 'regular'\n",
    "import math\n",
    "from pylab import setp\n",
    "import helper"
   ]
  },
  {
   "cell_type": "code",
   "execution_count": null,
   "metadata": {},
   "outputs": [],
   "source": [
    "data = np.load('ehenextgen_aeff_per_flavor.npz')\n",
    "ebins_GeV = data['energy_bin_center_GeV']\n",
    "nue_m2sr = data['aeff_m2sr_nue']\n",
    "numu_m2sr = data['aeff_m2sr_numu']\n",
    "nutau_m2sr = data['aeff_m2sr_nutau']"
   ]
  },
  {
   "cell_type": "code",
   "execution_count": null,
   "metadata": {},
   "outputs": [],
   "source": [
    "fig, ax = plt.subplots(1, 1, figsize=(7,5))\n",
    "ax.plot( ebins_GeV, nue_m2sr, label='nue')\n",
    "ax.plot( ebins_GeV, numu_m2sr, label='numu')\n",
    "ax.plot( ebins_GeV, nutau_m2sr, label='nutau')\n",
    "ax.set_yscale('log')\n",
    "ax.set_xscale('log')\n",
    "ax.set_xlabel('Energy [GeV]')\n",
    "ax.set_ylabel('Aeff [m2sr]')\n",
    "ax.set_ylim([1,1E6])\n",
    "ax.set_xlim(5e5, 1e11)\n",
    "ax.legend()"
   ]
  }
 ],
 "metadata": {
  "kernelspec": {
   "display_name": "ehe",
   "language": "python",
   "name": "python3"
  },
  "language_info": {
   "codemirror_mode": {
    "name": "ipython",
    "version": 3
   },
   "file_extension": ".py",
   "mimetype": "text/x-python",
   "name": "python",
   "nbconvert_exporter": "python",
   "pygments_lexer": "ipython3"
  }
 },
 "nbformat": 4,
 "nbformat_minor": 2
}
