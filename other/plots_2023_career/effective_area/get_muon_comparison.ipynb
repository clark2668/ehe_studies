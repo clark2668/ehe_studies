{
 "cells": [
  {
   "cell_type": "code",
   "execution_count": null,
   "metadata": {},
   "outputs": [],
   "source": [
    "from glob import glob\n",
    "import sys\n",
    "import numpy as np\n",
    "import pandas as pd\n",
    "from tqdm import tqdm\n",
    "from copy import copy\n",
    "from matplotlib import pyplot as plt\n",
    "%matplotlib inline\n",
    "from matplotlib.colors import LogNorm\n",
    "\n",
    "import warnings\n",
    "warnings.filterwarnings(\"ignore\")"
   ]
  },
  {
   "cell_type": "code",
   "execution_count": null,
   "metadata": {},
   "outputs": [],
   "source": [
    "import helper\n",
    "traj = helper.build_muon_test_trajectory()"
   ]
  },
  {
   "cell_type": "code",
   "execution_count": null,
   "metadata": {},
   "outputs": [],
   "source": [
    "from neutrino_level.steps.general_modules.read_data import load_dfs\n",
    "mc_df, data_df = load_dfs(\n",
    "    traj, ignore_tables=helper.to_ignore)"
   ]
  },
  {
   "cell_type": "code",
   "execution_count": null,
   "metadata": {},
   "outputs": [],
   "source": [
    "from cr_fluxes import GaisserH4aAugerZombie\n",
    "import simweights"
   ]
  },
  {
   "cell_type": "code",
   "execution_count": null,
   "metadata": {},
   "outputs": [],
   "source": [
    "proton_flux = simweights.FixedFractionFlux(fractions={2212: 1,\n",
    "                                                      1000260560: 0},\n",
    "                                           basis=simweights.GaisserH4a())\n",
    "iron_flux = simweights.FixedFractionFlux(fractions={2212: 0,\n",
    "                                                    1000260560: 1},\n",
    "                                         basis=simweights.GaisserH4a())\n",
    "auger_flux = GaisserH4aAugerZombie()\n",
    "\n",
    "weighters = []\n",
    "index = None\n",
    "\n",
    "for i, file_i in enumerate(traj.parameters.components.corsika.file_list):\n",
    "    with pd.HDFStore(file_i, 'r') as hdf_store:\n",
    "        weighters.append(simweights.CorsikaWeighter(\n",
    "            hdf_store, traj.parameters.components.corsika.n_files_loaded[i]))\n",
    "        index_i = hdf_store['MCPrimary'].set_index(\n",
    "            ['Run', 'Event', 'SubEvent']).index\n",
    "        if index is None:\n",
    "            index = index_i\n",
    "        else:\n",
    "            index = index.append(index_i)\n",
    "weighter = np.sum(weighters)\n",
    "sort_idx = index.argsort()\n",
    "proton_weights = weighter.get_weights(proton_flux)[sort_idx]\n",
    "iron_weights = weighter.get_weights(iron_flux)[sort_idx]\n",
    "auger_weights = weighter.get_weights(auger_flux)[sort_idx]"
   ]
  },
  {
   "cell_type": "code",
   "execution_count": null,
   "metadata": {},
   "outputs": [],
   "source": [
    "mc_df.loc[mc_df['Label'] == 6, 'Weights.GaisserH4a_proton'] = proton_weights\n",
    "mc_df.loc[mc_df['Label'] == 6, 'Weights.GaisserH4a_iron'] = iron_weights\n",
    "mc_df.loc[mc_df['Label'] == 6, 'Weights.GaisserH4a_auger'] = auger_weights"
   ]
  },
  {
   "cell_type": "code",
   "execution_count": null,
   "metadata": {},
   "outputs": [],
   "source": [
    "mask = mc_df['Label'] == 6\n",
    "mc_df.loc[mask, 'Weight'] = mc_df.loc[mask, 'Weights.GaisserH4a']\n",
    "mask = mc_df['Label'] != 6\n",
    "mc_df.loc[mask, 'Weight'] = mc_df.loc[mask, 'Weights.northern_tracks'] #* 2"
   ]
  },
  {
   "cell_type": "code",
   "execution_count": null,
   "metadata": {},
   "outputs": [],
   "source": [
    "import sys\n",
    "sys.path.append('/data/i3home/baclark/IceCube/ehe/career_plots/tools/energy_loss_pdfs')\n",
    "from stochasticity_observable_ import get_1d_rlogl"
   ]
  },
  {
   "cell_type": "code",
   "execution_count": null,
   "metadata": {},
   "outputs": [],
   "source": [
    "get_1d_rlogl(\n",
    "    mc_df,\n",
    "    Likelihood_1D(spline),\n",
    "    table_name='EHEMuMillipede_SplineMPEseed_vecd',\n",
    "    key_name='stochasticity',\n",
    "    min_bins=8,\n",
    "    n_bins_to_combine=4)"
   ]
  },
  {
   "cell_type": "code",
   "execution_count": null,
   "metadata": {},
   "outputs": [],
   "source": [
    "from neutrino_level.steps.general_modules.label_maker import type_to_label\n",
    "\n",
    "def get_idx_from_comp(df, comp):\n",
    "    idx = np.array(df['Label'] == type_to_label[comp], dtype=bool)\n",
    "    return idx\n",
    "\n",
    "def calc_weights(\n",
    "    mc_df, obs_name, component_name,\n",
    "    weight_col='Weight',\n",
    "):\n",
    "    comp_idx = get_idx_from_comp(mc_df, component_name)\n",
    "    values = mc_df.loc[comp_idx, obs_name]\n",
    "    weights = mc_df.loc[comp_idx, weight_col]\n",
    "    \n",
    "    return values, weights"
   ]
  },
  {
   "cell_type": "code",
   "execution_count": null,
   "metadata": {},
   "outputs": [],
   "source": [
    "cor_values, cor_weights = calc_weights(\n",
    "    mc_df, 'stochasticity', component_name='corsika'\n",
    ")\n",
    "numu_values, numu_weights = calc_weights(\n",
    "    mc_df, 'stochasticity', component_name='numu_cc'\n",
    ")\n",
    "\n",
    "np.savez('ehenextgen_stoch_weights.npz',\n",
    "         cor_values=cor_values,\n",
    "         cor_weights=cor_weights,\n",
    "         numu_values=numu_values,\n",
    "         numu_weights=numu_weights\n",
    "         )"
   ]
  },
  {
   "cell_type": "code",
   "execution_count": null,
   "metadata": {},
   "outputs": [],
   "source": [
    "fig, ax = plt.subplots()\n",
    "ax.hist(\n",
    "    cor_values, weights=cor_weights,\n",
    "    bins=np.linspace(2, 14, 101), \n",
    "    histtype='step',linewidth=2,\n",
    "    density=True\n",
    ")\n",
    "ax.hist(\n",
    "    numu_values, weights=numu_weights,\n",
    "    bins=np.linspace(2, 14, 101), \n",
    "    histtype='step',linewidth=2,\n",
    "    density=True\n",
    ")\n",
    "ax.set_yscale('log')\n",
    "ax.set_ylim([1e-3, 1e0])"
   ]
  }
 ],
 "metadata": {
  "kernelspec": {
   "display_name": "ehe",
   "language": "python",
   "name": "python3"
  },
  "language_info": {
   "codemirror_mode": {
    "name": "ipython",
    "version": 3
   },
   "file_extension": ".py",
   "mimetype": "text/x-python",
   "name": "python",
   "nbconvert_exporter": "python",
   "pygments_lexer": "ipython3"
  }
 },
 "nbformat": 4,
 "nbformat_minor": 2
}
