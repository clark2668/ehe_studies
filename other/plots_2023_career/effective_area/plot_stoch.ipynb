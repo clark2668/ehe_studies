{
 "cells": [
  {
   "cell_type": "code",
   "execution_count": null,
   "metadata": {},
   "outputs": [],
   "source": [
    "import numpy as np #import numpy\n",
    "import matplotlib.pyplot as plt \n",
    "import matplotlib\n",
    "from matplotlib.pyplot import rcParams\n",
    "rcParams['mathtext.default'] = 'regular'\n",
    "import math\n",
    "from pylab import setp\n",
    "import helper"
   ]
  },
  {
   "cell_type": "code",
   "execution_count": null,
   "metadata": {},
   "outputs": [],
   "source": [
    "data = np.load('ehenextgen_stoch_weights.npz')"
   ]
  },
  {
   "cell_type": "code",
   "execution_count": null,
   "metadata": {},
   "outputs": [],
   "source": [
    "plt.rc('text',usetex=True) #plot with Latex\n",
    "plt.rc('font',family='serif') #Used a serif font\n",
    "plt.rc('font', weight='heavy') #Make the text bold\\\n",
    "\n",
    "# plt.rc('font',**{'family':'serif'})\n",
    "\n",
    "fig2 = plt.figure(figsize=(4,3.5))\n",
    "ax = fig2.add_subplot(1,1,1)\n",
    "plot_bins = np.linspace(2, 14, 51)\n",
    "\n",
    "n, b, p = ax.hist(\n",
    "        data['cor_values'], weights=data['cor_weights'],\n",
    "        bins=plot_bins,\n",
    "        histtype='step', linewidth=2, linestyle='--',\n",
    "        label='Muon Bundles', density=True\n",
    ")\n",
    "n, b, p = ax.hist(\n",
    "        data['numu_values'], weights=data['numu_values'],\n",
    "        bins=plot_bins,\n",
    "        histtype='step', linewidth=2,\n",
    "        label='Single High \\n Energy Muons', density=True\n",
    ")\n",
    "sizer=15\n",
    "ax.set_xlim([3,13])\n",
    "ax.set_xlabel('Stochasticity',size=sizer)\n",
    "ax.set_ylabel('Normalized Density',size=sizer)\n",
    "ax.tick_params(labelsize=sizer)\n",
    "this_legend= ax.legend(loc='upper right')\n",
    "setp(this_legend.get_texts(), fontsize=12)\n",
    "setp(this_legend.get_title(), fontsize=12)\n",
    "this_legend.get_frame().set_edgecolor('k')\n",
    "ax.xaxis.set_ticks([4, 8, 12])\n",
    "\n",
    "# for a in [ax]:\n",
    "#     a.yaxis.label.set_fontsize(18)\n",
    "#     a.xaxis.label.set_fontsize(18)\n",
    "#     a.tick_params(axis='both', which='major', labelsize=15)\n",
    "\n",
    "\n",
    "plt.tight_layout()\n",
    "fig2.savefig(\"stoch_comparison.pdf\",edgecolor='none',bbox_inches=\"tight\",dpi=300) #save the figure    "
   ]
  },
  {
   "cell_type": "code",
   "execution_count": null,
   "metadata": {},
   "outputs": [],
   "source": []
  }
 ],
 "metadata": {
  "kernelspec": {
   "display_name": "ehe",
   "language": "python",
   "name": "python3"
  },
  "language_info": {
   "codemirror_mode": {
    "name": "ipython",
    "version": 3
   },
   "file_extension": ".py",
   "mimetype": "text/x-python",
   "name": "python",
   "nbconvert_exporter": "python",
   "pygments_lexer": "ipython3"
  }
 },
 "nbformat": 4,
 "nbformat_minor": 2
}
