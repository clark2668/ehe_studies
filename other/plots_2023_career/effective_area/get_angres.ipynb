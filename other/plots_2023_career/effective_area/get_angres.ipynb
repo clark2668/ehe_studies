{
 "cells": [
  {
   "cell_type": "code",
   "execution_count": null,
   "metadata": {},
   "outputs": [],
   "source": [
    "from glob import glob\n",
    "import sys\n",
    "import numpy as np\n",
    "import pandas as pd\n",
    "from tqdm import tqdm\n",
    "from copy import copy\n",
    "from matplotlib import pyplot as plt\n",
    "%matplotlib inline\n",
    "from matplotlib.colors import LogNorm\n",
    "\n",
    "import warnings\n",
    "warnings.filterwarnings(\"ignore\")"
   ]
  },
  {
   "cell_type": "code",
   "execution_count": null,
   "metadata": {},
   "outputs": [],
   "source": [
    "import helper\n",
    "traj = helper.build_angres_trajectory()"
   ]
  },
  {
   "cell_type": "code",
   "execution_count": null,
   "metadata": {},
   "outputs": [],
   "source": [
    "from neutrino_level.steps.general_modules.read_data import load_dfs\n",
    "mc_df, data_df = load_dfs(\n",
    "    traj, ignore_tables=helper.to_ignore)"
   ]
  },
  {
   "cell_type": "code",
   "execution_count": null,
   "metadata": {},
   "outputs": [],
   "source": [
    "def get_opening_angle(zen0, azi0, zen1, azi1):\n",
    "    angles = np.zeros_like(zen0)\n",
    "    angles += np.sin(zen1) * np.sin(zen0)\n",
    "    angles *= np.cos(azi1 - azi0)\n",
    "    angles += np.cos(zen1) * np.cos(zen0)\n",
    "    angles = np.clip(angles, -1., 1.)\n",
    "    angles = np.arccos(angles)\n",
    "    return angles"
   ]
  },
  {
   "cell_type": "code",
   "execution_count": null,
   "metadata": {},
   "outputs": [],
   "source": [
    "angles = get_opening_angle(\n",
    "    mc_df['MCPrimary.zenith'],\n",
    "    mc_df['MCPrimary.azimuth'],\n",
    "    mc_df['EHE_SplineMPE.zenith'],\n",
    "    mc_df['EHE_SplineMPE.azimuth'],\n",
    ")\n",
    "mc_df['opening_angle'] = angles\n",
    "mc_df['opening_angle_in_deg'] = angles * 180 / np.pi\n",
    "\n",
    "angles = get_opening_angle(\n",
    "    mc_df['MCPrimary.zenith'],\n",
    "    mc_df['MCPrimary.azimuth'],\n",
    "    mc_df['EHELineFit.zenith'],\n",
    "    mc_df['EHELineFit.azimuth'],\n",
    ")\n",
    "mc_df['opening_angle_lf'] = angles\n",
    "mc_df['opening_angle_lf_in_deg'] = angles * 180 / np.pi\n",
    "\n",
    "angles = get_opening_angle(\n",
    "    mc_df['EHE_SplineMPE.zenith'],\n",
    "    mc_df['EHE_SplineMPE.azimuth'],\n",
    "    mc_df['EHELineFit.zenith'],\n",
    "    mc_df['EHELineFit.azimuth'],\n",
    ")\n",
    "mc_df['opening_angle_recos'] = angles\n",
    "mc_df['opening_angle_recos_in_deg'] = angles * 180 / np.pi"
   ]
  },
  {
   "cell_type": "code",
   "execution_count": null,
   "metadata": {},
   "outputs": [],
   "source": [
    "np.savez('angres_comparison.npz',\n",
    "         open_angle_deg_new=mc_df['opening_angle_in_deg'],\n",
    "         open_angle_deg_old=mc_df['opening_angle_lf_in_deg']\n",
    "         )"
   ]
  },
  {
   "cell_type": "code",
   "execution_count": null,
   "metadata": {},
   "outputs": [],
   "source": [
    "weights = None\n",
    "bins = np.linspace(-1, 10, 100)\n",
    "fig, ax = plt.subplots()\n",
    "ax.hist(mc_df['opening_angle_in_deg'],\n",
    "        bins=bins,\n",
    "        histtype='step',\n",
    "        lw=2,\n",
    "        label='Spline MPE',\n",
    "        weights=weights,\n",
    "        density=True\n",
    "        )\n",
    "ax.hist(mc_df['opening_angle_lf_in_deg'],\n",
    "        bins=bins,\n",
    "        histtype='step',\n",
    "        lw=2,\n",
    "        label='LineFit',\n",
    "        weights=weights,\n",
    "        density=True\n",
    "        )\n",
    "print(np.median(mc_df['opening_angle_in_deg']))\n",
    "print(np.median(mc_df['opening_angle_lf_in_deg']))\n",
    "ax.set_xlim([-0.5,5])\n",
    "# ax.set_yscale('log')\n",
    "ax.legend()\n",
    "ax.set_xlabel('Opening angle / deg')\n",
    "ax.set_ylabel('Entires / bin')\n",
    "#fig.savefig('figs_l4v2/opening_angle_comparison.pdf', bbox_inches='tight')"
   ]
  }
 ],
 "metadata": {
  "kernelspec": {
   "display_name": "ehe",
   "language": "python",
   "name": "python3"
  },
  "language_info": {
   "codemirror_mode": {
    "name": "ipython",
    "version": 3
   },
   "file_extension": ".py",
   "mimetype": "text/x-python",
   "name": "python",
   "nbconvert_exporter": "python",
   "pygments_lexer": "ipython3"
  }
 },
 "nbformat": 4,
 "nbformat_minor": 2
}
