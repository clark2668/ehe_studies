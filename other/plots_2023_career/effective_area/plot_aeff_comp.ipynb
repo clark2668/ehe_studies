{
 "cells": [
  {
   "cell_type": "code",
   "execution_count": null,
   "metadata": {},
   "outputs": [],
   "source": [
    "import numpy as np #import numpy\n",
    "import matplotlib.pyplot as plt #import matplotlib\n",
    "from matplotlib.pyplot import rcParams\n",
    "rcParams['mathtext.default'] = 'regular'\n",
    "import math\n",
    "from pylab import setp\n",
    "import helper"
   ]
  },
  {
   "cell_type": "code",
   "execution_count": null,
   "metadata": {},
   "outputs": [],
   "source": [
    "def get_aeff(filename):\n",
    "    '''\n",
    "    Return energy bin centers and effective area\n",
    "    \n",
    "    Energy bin centers should be in units of GeV\n",
    "    Effective area should be in units of meters^2 * steradian\n",
    "    \n",
    "    '''\n",
    "    \n",
    "    energy_GeV = None\n",
    "    aeffsr_m2sr = None\n",
    "    \n",
    "    data = np.load(filename)\n",
    "    energy_GeV = data['bin_center']\n",
    "    aeffsr_m2sr =data['avg_aeff_m2sr']\n",
    "\n",
    "    return energy_GeV, aeffsr_m2sr"
   ]
  },
  {
   "cell_type": "code",
   "execution_count": null,
   "metadata": {},
   "outputs": [],
   "source": [
    "ebins_orig, aeff_orig = get_aeff('ehenextgen_total_aeff_scale_orig.npz')\n",
    "ebins_L3, aeff_L3 = get_aeff('ehenextgen_total_aeff_scale_L3.npz')\n",
    "\n",
    "ebins_centers = helper.get_bin_centers(ebins_orig)\n",
    "print(ebins_orig.shape)\n",
    "print(aeff_orig.shape)\n"
   ]
  },
  {
   "cell_type": "code",
   "execution_count": null,
   "metadata": {},
   "outputs": [],
   "source": [
    "fig, (ax1, ax2) = plt.subplots(1, 2, figsize=(10,5))\n",
    "ax1.plot( ebins_orig, aeff_orig, color='grey', lw=2.5 )\n",
    "ax1.plot( ebins_orig, aeff_L3, color='blue', lw=2.5 )\n",
    "ax1.set_yscale('log')\n",
    "ax1.set_xscale('log')\n",
    "\n",
    "ax2.plot(ebins_orig, aeff_L3/aeff_orig)\n",
    "ax2.set_xscale('log')\n",
    "ax2.hlines(1.7,1E6,1E12)"
   ]
  }
 ],
 "metadata": {
  "kernelspec": {
   "display_name": "ehe",
   "language": "python",
   "name": "python3"
  },
  "language_info": {
   "codemirror_mode": {
    "name": "ipython",
    "version": 3
   },
   "file_extension": ".py",
   "mimetype": "text/x-python",
   "name": "python",
   "nbconvert_exporter": "python",
   "pygments_lexer": "ipython3"
  }
 },
 "nbformat": 4,
 "nbformat_minor": 2
}
