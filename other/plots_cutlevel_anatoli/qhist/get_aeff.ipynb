{
 "cells": [
  {
   "cell_type": "code",
   "execution_count": 1,
   "metadata": {},
   "outputs": [],
   "source": [
    "from glob import glob\n",
    "import sys\n",
    "import numpy as np\n",
    "import pandas as pd\n",
    "from tqdm import tqdm\n",
    "from copy import copy\n",
    "from matplotlib import pyplot as plt\n",
    "%matplotlib inline\n",
    "\n",
    "import warnings\n",
    "warnings.filterwarnings(\"ignore\")"
   ]
  },
  {
   "cell_type": "code",
   "execution_count": 2,
   "metadata": {},
   "outputs": [],
   "source": [
    "import helper\n",
    "traj = helper.build_trajectory()"
   ]
  },
  {
   "cell_type": "code",
   "execution_count": 3,
   "metadata": {},
   "outputs": [
    {
     "name": "stdout",
     "output_type": "stream",
     "text": [
      "Loading comp: juliet_numu\n"
     ]
    },
    {
     "name": "stderr",
     "output_type": "stream",
     "text": [
      " 67%|██████▋   | 84/126 [00:00<00:00, 88.36Observables/s] "
     ]
    },
    {
     "name": "stdout",
     "output_type": "stream",
     "text": [
      "Skipping to load I3MCWeightDict!\n",
      "Skipping to load I3JulietPrimaryParticle!\n",
      "Unduplicating Table for PropagationMatrixNuTau.vector_index\n"
     ]
    },
    {
     "name": "stderr",
     "output_type": "stream",
     "text": [
      " 71%|███████▏  | 90/126 [00:20<00:00, 88.36Observables/s]"
     ]
    },
    {
     "name": "stdout",
     "output_type": "stream",
     "text": [
      "Unduplicating Table for EHEMuMillipede_SplineMPEseed_vecd.vector_index\n"
     ]
    },
    {
     "name": "stderr",
     "output_type": "stream",
     "text": [
      " 84%|████████▍ | 106/126 [00:28<00:09,  2.11Observables/s]"
     ]
    },
    {
     "name": "stdout",
     "output_type": "stream",
     "text": [
      "Skipping to load NuEProperties!\n",
      "Skipping to load NuTauProperties!\n",
      "Unduplicating Table for PropagationMatrixNuE.vector_index\n"
     ]
    },
    {
     "name": "stderr",
     "output_type": "stream",
     "text": [
      " 92%|█████████▏| 116/126 [00:46<00:08,  1.20Observables/s]"
     ]
    },
    {
     "name": "stdout",
     "output_type": "stream",
     "text": [
      "Unduplicating Table for PropagationMatrixNuMu.vector_index\n"
     ]
    },
    {
     "name": "stderr",
     "output_type": "stream",
     "text": [
      " 94%|█████████▍| 119/126 [01:04<00:03,  1.85Observables/s]\n"
     ]
    },
    {
     "name": "stdout",
     "output_type": "stream",
     "text": [
      "(1400001, 0, 0)\n",
      "juliet_numu: 1st index 1, 0, 0\n",
      "juliet_numu: 1st index srt 1, 0, 0\n",
      "Loading comp: juliet_numu\n"
     ]
    },
    {
     "name": "stderr",
     "output_type": "stream",
     "text": [
      " 67%|██████▋   | 84/126 [00:00<00:00, 381.63Observables/s]"
     ]
    },
    {
     "name": "stdout",
     "output_type": "stream",
     "text": [
      "Skipping to load I3MCWeightDict!\n",
      "Skipping to load I3JulietPrimaryParticle!\n",
      "Unduplicating Table for PropagationMatrixNuTau.vector_index\n",
      "Unduplicating Table for EHEMuMillipede_SplineMPEseed_vecd.vector_index\n",
      "Skipping to load NuEProperties!\n",
      "Skipping to load NuTauProperties!\n",
      "Unduplicating Table for PropagationMatrixNuE.vector_index\n",
      "Unduplicating Table for PropagationMatrixNuMu.vector_index\n"
     ]
    },
    {
     "name": "stderr",
     "output_type": "stream",
     "text": [
      " 94%|█████████▍| 119/126 [00:11<00:00, 10.14Observables/s] \n"
     ]
    },
    {
     "name": "stdout",
     "output_type": "stream",
     "text": [
      "(1410001, 1, 0)\n",
      "juliet_numu: 1st index 1, 1, 0\n",
      "juliet_numu: 1st index srt 1, 1, 0\n",
      "Loading comp: juliet_mu\n"
     ]
    },
    {
     "name": "stderr",
     "output_type": "stream",
     "text": [
      " 67%|██████▋   | 84/126 [00:00<00:00, 130.46Observables/s]"
     ]
    },
    {
     "name": "stdout",
     "output_type": "stream",
     "text": [
      "Skipping to load I3MCWeightDict!\n",
      "Skipping to load I3JulietPrimaryParticle!\n",
      "Unduplicating Table for PropagationMatrixNuTau.vector_index\n"
     ]
    },
    {
     "name": "stderr",
     "output_type": "stream",
     "text": [
      " 71%|███████▏  | 90/126 [00:13<00:09,  3.66Observables/s] "
     ]
    },
    {
     "name": "stdout",
     "output_type": "stream",
     "text": [
      "Unduplicating Table for EHEMuMillipede_SplineMPEseed_vecd.vector_index\n"
     ]
    },
    {
     "name": "stderr",
     "output_type": "stream",
     "text": [
      " 84%|████████▍ | 106/126 [00:18<00:05,  3.91Observables/s]"
     ]
    },
    {
     "name": "stdout",
     "output_type": "stream",
     "text": [
      "Skipping to load NuEProperties!\n",
      "Skipping to load NuMuProperties!\n",
      "Skipping to load NuTauProperties!\n",
      "Unduplicating Table for PropagationMatrixNuE.vector_index\n"
     ]
    },
    {
     "name": "stderr",
     "output_type": "stream",
     "text": [
      " 89%|████████▉ | 112/126 [00:31<00:03,  3.91Observables/s]"
     ]
    },
    {
     "name": "stdout",
     "output_type": "stream",
     "text": [
      "Unduplicating Table for PropagationMatrixNuMu.vector_index\n"
     ]
    },
    {
     "name": "stderr",
     "output_type": "stream",
     "text": [
      " 91%|█████████▏| 115/126 [00:42<00:04,  2.68Observables/s]\n"
     ]
    },
    {
     "name": "stdout",
     "output_type": "stream",
     "text": [
      "(1300001, 0, 0)\n",
      "juliet_mu: 1st index 1, 0, 0\n",
      "juliet_mu: 1st index srt 1, 0, 0\n",
      "Loading comp: juliet_mu\n"
     ]
    },
    {
     "name": "stderr",
     "output_type": "stream",
     "text": [
      " 34%|███▍      | 43/126 [00:00<00:00, 423.52Observables/s]"
     ]
    },
    {
     "name": "stdout",
     "output_type": "stream",
     "text": [
      "Skipping to load I3MCWeightDict!\n",
      "Skipping to load I3JulietPrimaryParticle!\n",
      "Unduplicating Table for PropagationMatrixNuTau.vector_index\n"
     ]
    },
    {
     "name": "stderr",
     "output_type": "stream",
     "text": [
      " 71%|███████▏  | 90/126 [00:02<00:01, 28.89Observables/s] "
     ]
    },
    {
     "name": "stdout",
     "output_type": "stream",
     "text": [
      "Unduplicating Table for EHEMuMillipede_SplineMPEseed_vecd.vector_index\n"
     ]
    },
    {
     "name": "stderr",
     "output_type": "stream",
     "text": [
      " 87%|████████▋ | 110/126 [00:03<00:00, 26.98Observables/s]"
     ]
    },
    {
     "name": "stdout",
     "output_type": "stream",
     "text": [
      "Skipping to load NuEProperties!\n",
      "Skipping to load NuMuProperties!\n",
      "Skipping to load NuTauProperties!\n",
      "Unduplicating Table for PropagationMatrixNuE.vector_index\n",
      "Unduplicating Table for PropagationMatrixNuMu.vector_index\n"
     ]
    },
    {
     "name": "stderr",
     "output_type": "stream",
     "text": [
      " 91%|█████████▏| 115/126 [00:08<00:00, 13.40Observables/s]\n"
     ]
    },
    {
     "name": "stdout",
     "output_type": "stream",
     "text": [
      "(1310001, 0, 0)\n",
      "juliet_mu: 1st index 1, 0, 0\n",
      "juliet_mu: 1st index srt 1, 0, 0\n",
      "Loading comp: juliet_tau\n"
     ]
    },
    {
     "name": "stderr",
     "output_type": "stream",
     "text": [
      " 56%|█████▋    | 71/126 [00:00<00:00, 192.84Observables/s]"
     ]
    },
    {
     "name": "stdout",
     "output_type": "stream",
     "text": [
      "Skipping to load I3MCWeightDict!\n",
      "Skipping to load I3JulietPrimaryParticle!\n",
      "Unduplicating Table for PropagationMatrixNuTau.vector_index\n",
      "Unduplicating Table for EHEMuMillipede_SplineMPEseed_vecd.vector_index\n"
     ]
    },
    {
     "name": "stderr",
     "output_type": "stream",
     "text": [
      " 87%|████████▋ | 110/126 [00:12<00:02,  6.67Observables/s]"
     ]
    },
    {
     "name": "stdout",
     "output_type": "stream",
     "text": [
      "Skipping to load NuEProperties!\n",
      "Skipping to load NuMuProperties!\n",
      "Skipping to load NuTauProperties!\n",
      "Unduplicating Table for PropagationMatrixNuE.vector_index\n",
      "Unduplicating Table for PropagationMatrixNuMu.vector_index\n"
     ]
    },
    {
     "name": "stderr",
     "output_type": "stream",
     "text": [
      " 91%|█████████▏| 115/126 [00:29<00:02,  3.85Observables/s]\n"
     ]
    },
    {
     "name": "stdout",
     "output_type": "stream",
     "text": [
      "(1500001, 1, 0)\n",
      "juliet_tau: 1st index 1, 1, 0\n",
      "juliet_tau: 1st index srt 1, 1, 0\n",
      "Loading comp: juliet_tau\n"
     ]
    },
    {
     "name": "stderr",
     "output_type": "stream",
     "text": [
      " 70%|██████▉   | 88/126 [00:00<00:00, 141.48Observables/s]"
     ]
    },
    {
     "name": "stdout",
     "output_type": "stream",
     "text": [
      "Skipping to load I3MCWeightDict!\n",
      "Skipping to load I3JulietPrimaryParticle!\n",
      "Unduplicating Table for PropagationMatrixNuTau.vector_index\n",
      "Unduplicating Table for EHEMuMillipede_SplineMPEseed_vecd.vector_index\n"
     ]
    },
    {
     "name": "stderr",
     "output_type": "stream",
     "text": [
      " 84%|████████▍ | 106/126 [00:15<00:05,  3.98Observables/s]"
     ]
    },
    {
     "name": "stdout",
     "output_type": "stream",
     "text": [
      "Skipping to load NuEProperties!\n",
      "Skipping to load NuTauProperties!\n",
      "Skipping to load NuMuProperties!\n",
      "Unduplicating Table for PropagationMatrixNuE.vector_index\n",
      "Unduplicating Table for PropagationMatrixNuMu.vector_index\n"
     ]
    },
    {
     "name": "stderr",
     "output_type": "stream",
     "text": [
      " 91%|█████████▏| 115/126 [00:38<00:03,  2.97Observables/s]\n"
     ]
    },
    {
     "name": "stdout",
     "output_type": "stream",
     "text": [
      "(1510001, 0, 0)\n",
      "juliet_tau: 1st index 1, 0, 0\n",
      "juliet_tau: 1st index srt 1, 0, 0\n",
      "Loading comp: juliet_nutau\n"
     ]
    },
    {
     "name": "stderr",
     "output_type": "stream",
     "text": [
      " 67%|██████▋   | 84/126 [00:00<00:00, 94.14Observables/s] "
     ]
    },
    {
     "name": "stdout",
     "output_type": "stream",
     "text": [
      "Skipping to load I3MCWeightDict!\n",
      "Skipping to load I3JulietPrimaryParticle!\n",
      "Unduplicating Table for PropagationMatrixNuTau.vector_index\n"
     ]
    },
    {
     "name": "stderr",
     "output_type": "stream",
     "text": [
      " 71%|███████▏  | 90/126 [00:20<00:00, 94.14Observables/s]"
     ]
    },
    {
     "name": "stdout",
     "output_type": "stream",
     "text": [
      "Unduplicating Table for EHEMuMillipede_SplineMPEseed_vecd.vector_index\n"
     ]
    },
    {
     "name": "stderr",
     "output_type": "stream",
     "text": [
      " 84%|████████▍ | 106/126 [00:30<00:10,  1.88Observables/s]"
     ]
    },
    {
     "name": "stdout",
     "output_type": "stream",
     "text": [
      "Skipping to load NuEProperties!\n",
      "Skipping to load NuMuProperties!\n",
      "Unduplicating Table for PropagationMatrixNuE.vector_index\n"
     ]
    },
    {
     "name": "stderr",
     "output_type": "stream",
     "text": [
      " 92%|█████████▏| 116/126 [00:48<00:08,  1.12Observables/s]"
     ]
    },
    {
     "name": "stdout",
     "output_type": "stream",
     "text": [
      "Unduplicating Table for PropagationMatrixNuMu.vector_index\n"
     ]
    },
    {
     "name": "stderr",
     "output_type": "stream",
     "text": [
      " 94%|█████████▍| 119/126 [01:07<00:03,  1.77Observables/s]\n"
     ]
    },
    {
     "name": "stdout",
     "output_type": "stream",
     "text": [
      "(1600001, 0, 0)\n",
      "juliet_nutau: 1st index 1, 0, 0\n",
      "juliet_nutau: 1st index srt 1, 0, 0\n",
      "Loading comp: juliet_nutau\n"
     ]
    },
    {
     "name": "stderr",
     "output_type": "stream",
     "text": [
      " 34%|███▍      | 43/126 [00:00<00:00, 420.12Observables/s]"
     ]
    },
    {
     "name": "stdout",
     "output_type": "stream",
     "text": [
      "Skipping to load I3MCWeightDict!\n",
      "Skipping to load I3JulietPrimaryParticle!\n"
     ]
    },
    {
     "name": "stderr",
     "output_type": "stream",
     "text": [
      " 70%|██████▉   | 88/126 [00:00<00:00, 421.40Observables/s]"
     ]
    },
    {
     "name": "stdout",
     "output_type": "stream",
     "text": [
      "Unduplicating Table for PropagationMatrixNuTau.vector_index\n",
      "Unduplicating Table for EHEMuMillipede_SplineMPEseed_vecd.vector_index\n",
      "Skipping to load NuEProperties!\n",
      "Skipping to load NuMuProperties!\n",
      "Unduplicating Table for PropagationMatrixNuE.vector_index\n",
      "Unduplicating Table for PropagationMatrixNuMu.vector_index\n"
     ]
    },
    {
     "name": "stderr",
     "output_type": "stream",
     "text": [
      " 94%|█████████▍| 119/126 [00:11<00:00, 10.20Observables/s]\n"
     ]
    },
    {
     "name": "stdout",
     "output_type": "stream",
     "text": [
      "(1610001, 0, 0)\n",
      "juliet_nutau: 1st index 1, 0, 0\n",
      "juliet_nutau: 1st index srt 1, 0, 0\n",
      "Loading comp: juliet_nue\n"
     ]
    },
    {
     "name": "stderr",
     "output_type": "stream",
     "text": [
      " 67%|██████▋   | 84/125 [00:00<00:00, 96.43Observables/s] "
     ]
    },
    {
     "name": "stdout",
     "output_type": "stream",
     "text": [
      "Skipping to load I3MCWeightDict!\n",
      "Skipping to load I3JulietPrimaryParticle!\n",
      "Unduplicating Table for PropagationMatrixNuTau.vector_index\n"
     ]
    },
    {
     "name": "stderr",
     "output_type": "stream",
     "text": [
      " 72%|███████▏  | 90/125 [00:19<00:17,  2.00Observables/s]"
     ]
    },
    {
     "name": "stdout",
     "output_type": "stream",
     "text": [
      "Unduplicating Table for EHEMuMillipede_SplineMPEseed_vecd.vector_index\n"
     ]
    },
    {
     "name": "stderr",
     "output_type": "stream",
     "text": [
      " 85%|████████▍ | 106/125 [00:29<00:09,  2.04Observables/s]"
     ]
    },
    {
     "name": "stdout",
     "output_type": "stream",
     "text": [
      "Skipping to load NuMuProperties!\n",
      "Skipping to load NuTauProperties!\n",
      "Unduplicating Table for PropagationMatrixNuE.vector_index\n"
     ]
    },
    {
     "name": "stderr",
     "output_type": "stream",
     "text": [
      " 93%|█████████▎| 116/125 [00:47<00:07,  1.13Observables/s]"
     ]
    },
    {
     "name": "stdout",
     "output_type": "stream",
     "text": [
      "Unduplicating Table for PropagationMatrixNuMu.vector_index\n"
     ]
    },
    {
     "name": "stderr",
     "output_type": "stream",
     "text": [
      " 95%|█████████▌| 119/125 [01:05<00:03,  1.82Observables/s]\n"
     ]
    },
    {
     "name": "stdout",
     "output_type": "stream",
     "text": [
      "(1200001, 0, 0)\n",
      "juliet_nue: 1st index 1, 0, 0\n",
      "juliet_nue: 1st index srt 1, 0, 0\n",
      "Loading comp: juliet_nue\n"
     ]
    },
    {
     "name": "stderr",
     "output_type": "stream",
     "text": [
      " 67%|██████▋   | 84/125 [00:00<00:00, 389.07Observables/s]"
     ]
    },
    {
     "name": "stdout",
     "output_type": "stream",
     "text": [
      "Skipping to load I3MCWeightDict!\n",
      "Skipping to load I3JulietPrimaryParticle!\n",
      "Unduplicating Table for PropagationMatrixNuTau.vector_index\n",
      "Unduplicating Table for EHEMuMillipede_SplineMPEseed_vecd.vector_index\n",
      "Skipping to load NuMuProperties!\n",
      "Skipping to load NuTauProperties!\n",
      "Unduplicating Table for PropagationMatrixNuE.vector_index\n",
      "Unduplicating Table for PropagationMatrixNuMu.vector_index\n"
     ]
    },
    {
     "name": "stderr",
     "output_type": "stream",
     "text": [
      " 95%|█████████▌| 119/125 [00:11<00:00, 10.14Observables/s] \n"
     ]
    },
    {
     "name": "stdout",
     "output_type": "stream",
     "text": [
      "(1210001, 0, 0)\n",
      "juliet_nue: 1st index 1, 0, 0\n",
      "juliet_nue: 1st index srt 1, 0, 0\n"
     ]
    }
   ],
   "source": [
    "from neutrino_level.steps.general_modules.read_data import load_dfs\n",
    "mc_df, data_df = load_dfs(\n",
    "    traj, ignore_tables=helper.to_ignore)"
   ]
  },
  {
   "cell_type": "code",
   "execution_count": 4,
   "metadata": {},
   "outputs": [],
   "source": [
    "from stochasticity_observable_ import get_1d_rlogl\n",
    "from stochasticity_observable_ import spline, Likelihood_1D\n",
    "\n",
    "sys.path.append('/Users/brianclark/Documents/work/IceCube/ehe/ehe_deps/energy_loss_pdfs')\n",
    "from likelihood import Likelihood_1D\n",
    "\n",
    "get_1d_rlogl(\n",
    "    mc_df,\n",
    "    Likelihood_1D(spline),\n",
    "    table_name='EHEMuMillipede_SplineMPEseed_vecd',\n",
    "    key_name='stochasticity',\n",
    "    min_bins=8,\n",
    "    n_bins_to_combine=4)"
   ]
  },
  {
   "cell_type": "code",
   "execution_count": 5,
   "metadata": {},
   "outputs": [],
   "source": [
    "stoch_thresh = 8.374043045935741\n",
    "rlogl_mask = mc_df['stochasticity'] >= stoch_thresh"
   ]
  },
  {
   "cell_type": "code",
   "execution_count": 6,
   "metadata": {},
   "outputs": [],
   "source": [
    "def track_quality_cut(speed=None, npe=None,\n",
    "                      charge_scale=1.):\n",
    "    '''\n",
    "    Input: np.ndarrays of values to base the cut on\n",
    "    Returns: mask, where \"True\" indicates an event *PASSES* the cut\n",
    "    '''\n",
    "    # pass charge cut\n",
    "    mask1 = npe > (10**4.65 * charge_scale)\n",
    "    \n",
    "    # does *NOT* pass the track speed cut below 0.26 (cascade like)\n",
    "    low_speed = speed <= 0.26\n",
    "    low_mask = np.logical_and(low_speed, npe < (10**5.25 * charge_scale))\n",
    "    \n",
    "    # does *NOT* pass the track speed cut between 0.26 and 0.28\n",
    "    intermediate_speed = np.logical_and(speed > 0.26,\n",
    "                                    speed < 0.28)\n",
    "    intermediate_charge_thresh = (\n",
    "        np.power(10, 5.25 - (0.6/0.02) * (speed - 0.26)))\n",
    "    intermediate_mask = np.logical_and(\n",
    "        intermediate_speed,\n",
    "        npe < (intermediate_charge_thresh * charge_scale))\n",
    "      \n",
    "    # total mask (mask1 and NOT low mask and NOT intermediate mask)\n",
    "    total_mask = np.logical_and(\n",
    "        mask1, ~intermediate_mask\n",
    "    )\n",
    "    total_mask = np.logical_and(\n",
    "       total_mask, ~low_mask \n",
    "    )\n",
    "    return total_mask\n",
    "\n",
    "\n",
    "def muon_bundle_cut_stoch_opt(\n",
    "        mc_df,\n",
    "        reco_zen_key='EHEOpheliaParticleSRT_ImpLF.zenith',\n",
    "        npe_key='EHEPortiaEventSummary.atwdNPEbtw',\n",
    "        inplace=False,\n",
    "        charge_scale=1.,\n",
    "        floor=4.55,\n",
    "        ceil=6.05,\n",
    "        denom=0.9,\n",
    "        inflection_point=0.1,\n",
    "        pwr=2.5):\n",
    "    # Apply base cut\n",
    "    mask = mc_df[npe_key] >= (10**floor * charge_scale)\n",
    "    \n",
    "    # Add zenith dependent npe cut\n",
    "    above_horizon = np.cos(mc_df[reco_zen_key]) >= inflection_point\n",
    "    npe_thresh = np.power(10, floor + (ceil-floor) *\n",
    "                          np.sqrt(1 - np.power((1-np.cos(mc_df[reco_zen_key]))/denom, pwr)))\n",
    "    npe_mask = np.logical_and(\n",
    "        above_horizon,\n",
    "        mc_df[npe_key] < (npe_thresh * charge_scale))\n",
    "    mask = np.logical_and(mask, ~npe_mask)\n",
    "    return mask"
   ]
  },
  {
   "cell_type": "code",
   "execution_count": 8,
   "metadata": {},
   "outputs": [],
   "source": [
    "params_low = {\n",
    "    'floor': 4.7,\n",
    "    'inflection_point': 0.1,\n",
    "    'ceil': 6.25,\n",
    "    'denom': 0.9,\n",
    "    'pwr': 1.5\n",
    "}\n",
    "\n",
    "params_high = {\n",
    "    'floor': 4.65,\n",
    "    'inflection_point': 0.1,\n",
    "    'ceil': 5.7,\n",
    "    'denom': 0.9,\n",
    "    'pwr': 4\n",
    "}\n"
   ]
  },
  {
   "cell_type": "code",
   "execution_count": 10,
   "metadata": {},
   "outputs": [],
   "source": [
    "\n",
    "charge_scale = 1.27 * 0.94\n",
    "\n",
    "bundle_mask_low = np.logical_and(\n",
    "    muon_bundle_cut_stoch_opt(\n",
    "        mc_df,\n",
    "        reco_zen_key='EHE_SplineMPE.zenith',\n",
    "        npe_key='Homogenized_QTot.value',\n",
    "        charge_scale=charge_scale,\n",
    "        **params_low\n",
    "    ),\n",
    "    ~rlogl_mask\n",
    ")\n",
    "\n",
    "bundle_mask_high = np.logical_and(\n",
    "    muon_bundle_cut_stoch_opt(\n",
    "        mc_df,\n",
    "        reco_zen_key='EHE_SplineMPE.zenith',\n",
    "        npe_key='Homogenized_QTot.value',\n",
    "        charge_scale=charge_scale,\n",
    "        **params_high\n",
    "    ),\n",
    "    rlogl_mask\n",
    ")\n",
    "\n",
    "bundle_mask = np.logical_or(\n",
    "    bundle_mask_low,\n",
    "    bundle_mask_high\n",
    ")\n",
    "\n",
    "track_quality_mask = track_quality_cut(\n",
    "    mc_df['EHELineFit.speed'],\n",
    "    mc_df['Homogenized_QTot.value'],\n",
    "    charge_scale=charge_scale\n",
    ")\n",
    "\n",
    "selection_mask = np.logical_and(\n",
    "    bundle_mask,\n",
    "    track_quality_mask\n",
    ")"
   ]
  },
  {
   "cell_type": "code",
   "execution_count": 11,
   "metadata": {},
   "outputs": [],
   "source": [
    "params_old = {\n",
    "    'floor': 4.6,\n",
    "    'inflection_point': 0.06,\n",
    "    'ceil': 6.45,\n",
    "    'denom': 0.94,\n",
    "    'pwr': 2.\n",
    "}\n",
    "\n",
    "## Test if just doing the low stoch cut will approximately reproduce old effective areas\n",
    "bundle_mask_check = muon_bundle_cut_stoch_opt(\n",
    "    mc_df,\n",
    "    reco_zen_key='EHE_SplineMPE.zenith',\n",
    "    npe_key='Homogenized_QTot.value',\n",
    "    **params_old\n",
    ")\n",
    "\n",
    "selection_mask_check = np.logical_and(\n",
    "    bundle_mask_check,\n",
    "    track_quality_mask\n",
    ")"
   ]
  },
  {
   "cell_type": "code",
   "execution_count": 12,
   "metadata": {},
   "outputs": [],
   "source": [
    "final_mc_df = mc_df.loc[selection_mask]"
   ]
  },
  {
   "cell_type": "code",
   "execution_count": 13,
   "metadata": {},
   "outputs": [],
   "source": [
    "from neutrino_level.steps.general_modules.juliet_weighting import calc_juliet_effective_area\n",
    "from neutrino_level.steps.general_modules.juliet_weighting import get_juliet_weightdict_and_propmatrix\n",
    "import tables\n",
    "e_bins = np.logspace(5, 12, 141)"
   ]
  },
  {
   "cell_type": "code",
   "execution_count": 14,
   "metadata": {},
   "outputs": [
    {
     "name": "stdout",
     "output_type": "stream",
     "text": [
      "numu_he\n",
      "numu_vhe\n",
      "mu_he\n",
      "mu_vhe\n",
      "tau_he\n",
      "tau_vhe\n",
      "nutau_he\n",
      "nutau_vhe\n",
      "nue_he\n",
      "nue_vhe\n"
     ]
    }
   ],
   "source": [
    "def correct_events_per_file(juliet_species, juliet_energy_level):\n",
    "    n_he = 150\n",
    "    n_vhe = 20\n",
    "    nu_scaling = 4\n",
    "    \n",
    "    evts_per_file = -1\n",
    "    \n",
    "    if juliet_species in ['nue', 'numu', 'nutau']:\n",
    "        if juliet_energy_level == 'vhe':\n",
    "            evts_per_file = n_vhe * nu_scaling\n",
    "        else:\n",
    "            evts_per_file = n_he * nu_scaling\n",
    "    else:\n",
    "        if juliet_energy_level == 'vhe':\n",
    "            if juliet_species == 'tau':\n",
    "                evts_per_file = 100\n",
    "            else:\n",
    "                evts_per_file = n_vhe\n",
    "        else:\n",
    "            evts_per_file = n_he\n",
    "    \n",
    "    return evts_per_file\n",
    "\n",
    "\n",
    "\n",
    "run_ids = mc_df.index.get_level_values(0)\n",
    "\n",
    "eff_area_dict = {}\n",
    "eff_area_wzen_dict = {}\n",
    "eff_area_dict_check = {}\n",
    "\n",
    "for comp in traj.parameters.components:\n",
    "    print(comp._name)\n",
    "    species, energy_level = comp._name.split('_')\n",
    "    for file_i, n_files_i in zip(comp.file_list, comp.n_files_loaded):\n",
    "        with tables.open_file(file_i) as open_file:\n",
    "            weight_dict, prop_matrix, evts_per_file = \\\n",
    "                get_juliet_weightdict_and_propmatrix(open_file)\n",
    "            evts_per_file = correct_events_per_file(species, energy_level)\n",
    "            primary_energy = open_file.get_node(\n",
    "                '/MCPrimary').col('energy')\n",
    "            primary_coszen = np.cos(open_file.get_node(\n",
    "                '/MCPrimary').col('zenith'))\n",
    "            log_energy_max = np.log10(np.max(primary_energy))\n",
    "            \n",
    "            if comp.type.endswith('nue'):\n",
    "                pdg_id = 12\n",
    "            elif comp.type.endswith('numu'):\n",
    "                pdg_id = 14\n",
    "            elif comp.type.endswith('nutau'):\n",
    "                pdg_id = 16\n",
    "            elif comp.type.endswith('mu'):\n",
    "                pdg_id = 13\n",
    "            elif comp.type.endswith('tau'):\n",
    "                pdg_id = 15\n",
    "\n",
    "            ds_id_base = pdg_id * 100000\n",
    "            if log_energy_max > 9.0:\n",
    "                ds_id_base += 10000\n",
    "                \n",
    "            run_id_mask = np.logical_and(\n",
    "                run_ids >= ds_id_base,\n",
    "                run_ids < ds_id_base + 10000\n",
    "            )\n",
    "\n",
    "            mask = selection_mask[run_id_mask]\n",
    "            mask_ = selection_mask_check[run_id_mask]\n",
    "            \n",
    "            for prop_matrix_flavor, flavor in zip(\n",
    "                    prop_matrix, ['nue', 'numu', 'nutau']):\n",
    "\n",
    "                eff_area = calc_juliet_effective_area(\n",
    "                    energies=primary_energy,\n",
    "                    weight_dict=weight_dict,\n",
    "                    n_gen=evts_per_file*n_files_i,\n",
    "                    energy_bins=e_bins,\n",
    "                    prop_matrix=prop_matrix_flavor,\n",
    "                    selection_mask=mask\n",
    "                )\n",
    "                eff_area_dict[comp._name + f'_{flavor}'] = eff_area.sum(axis=0)\n",
    "                \n",
    "                czen_bins = np.arange(-1,1,0.03624000000000007) # to match Aachen (bizarre, but okay...)\n",
    "                eff_area_vs_zen = calc_juliet_effective_area(\n",
    "                    energies=primary_energy,\n",
    "                    weight_dict=weight_dict,\n",
    "                    n_gen=evts_per_file*n_files_i,\n",
    "                    energy_bins=e_bins,\n",
    "                    prop_matrix=prop_matrix_flavor,\n",
    "                    selection_mask=mask,\n",
    "                    coszen_values=primary_coszen,\n",
    "                    coszen_bins=czen_bins,\n",
    "                )\n",
    "                # 3D output (first =czen, second=energy at det, third=energy at surface)\n",
    "                # so sum over axis=1\n",
    "                eff_area_wzen_dict[comp._name + f'_{flavor}'] = eff_area_vs_zen.sum(axis=1)\n",
    "                \n",
    "                eff_area_check = calc_juliet_effective_area(\n",
    "                    energies=primary_energy,\n",
    "                    weight_dict=weight_dict,\n",
    "                    n_gen=evts_per_file*n_files_i,\n",
    "                    energy_bins=e_bins,\n",
    "                    prop_matrix=prop_matrix_flavor,\n",
    "                    selection_mask=mask_\n",
    "                )\n",
    "                eff_area_dict_check[comp._name + f'_{flavor}'] = eff_area_check.sum(axis=0)"
   ]
  },
  {
   "cell_type": "code",
   "execution_count": 15,
   "metadata": {},
   "outputs": [
    {
     "name": "stdout",
     "output_type": "stream",
     "text": [
      "(140,)\n",
      "(55, 140)\n"
     ]
    }
   ],
   "source": [
    "# just check some sizes\n",
    "print(eff_area_dict['numu_he_nue'].shape) # no zenith binning\n",
    "print(eff_area_wzen_dict['numu_he_nue'].shape) # with zenith binning\n"
   ]
  },
  {
   "cell_type": "code",
   "execution_count": 16,
   "metadata": {},
   "outputs": [],
   "source": [
    "\n",
    "areas_from_nue = [eff_area_dict[key] for key in eff_area_dict.keys() if key.endswith('nue')]\n",
    "areas_from_numu = [eff_area_dict[key] for key in eff_area_dict.keys() if key.endswith('numu')]\n",
    "areas_from_nutau = [eff_area_dict[key] for key in eff_area_dict.keys() if key.endswith('nutau')]\n",
    "\n",
    "areas_from_nue_wzen = [eff_area_wzen_dict[key] for key in eff_area_wzen_dict.keys() if key.endswith('nue')]\n",
    "areas_from_numu_wzen = [eff_area_wzen_dict[key] for key in eff_area_wzen_dict.keys() if key.endswith('numu')]\n",
    "areas_from_nutau_wzen = [eff_area_wzen_dict[key] for key in eff_area_wzen_dict.keys() if key.endswith('nutau')]\n",
    "\n",
    "areas_from_nue_check = [eff_area_dict_check[key] for key in eff_area_dict_check.keys() if key.endswith('nue')]\n",
    "areas_from_numu_check = [eff_area_dict_check[key] for key in eff_area_dict_check.keys() if key.endswith('numu')]\n",
    "areas_from_nutau_check = [eff_area_dict_check[key] for key in eff_area_dict_check.keys() if key.endswith('nutau')]"
   ]
  },
  {
   "cell_type": "code",
   "execution_count": 17,
   "metadata": {},
   "outputs": [
    {
     "data": {
      "text/plain": [
       "Text(0, 0.5, '$A_{\\\\mathrm{eff}} \\\\,\\\\, / \\\\,\\\\, \\\\mathrm{m}^2$')"
      ]
     },
     "execution_count": 17,
     "metadata": {},
     "output_type": "execute_result"
    },
    {
     "data": {
      "image/png": "[encoded data removed]",
      "text/plain": [
       "<Figure size 640x480 with 1 Axes>"
      ]
     },
     "metadata": {},
     "output_type": "display_data"
    }
   ],
   "source": [
    "bin_center = (e_bins[1:] + e_bins[:-1]) / 2\n",
    "bin_width = np.diff(e_bins)\n",
    "\n",
    "fig, ax = plt.subplots()\n",
    "for i, (areas, label_i) in enumerate(zip([areas_from_nue, areas_from_numu, areas_from_nutau],\n",
    "                                        ['NuE', 'NuMu', 'NuTau'])):\n",
    "    ax.plot(bin_center, np.sum(areas, axis=0), drawstyle='steps-mid',\n",
    "            color=f'C{i}')\n",
    "    ax.errorbar(bin_center, np.sum(areas, axis=0),\n",
    "                xerr=bin_width/2.,\n",
    "                label=f'{label_i}',\n",
    "                fmt='.', markersize=0,\n",
    "                color=f'C{i}')\n",
    "for i, (areas, label_i) in enumerate(zip([areas_from_nue_check, areas_from_numu_check, areas_from_nutau_check],\n",
    "                                        ['NuE', 'NuMu', 'NuTau'])):\n",
    "    ax.plot(bin_center, np.sum(areas, axis=0), drawstyle='steps-mid',\n",
    "            color=f'C{i}', ls='--')\n",
    "    ax.errorbar(bin_center, np.sum(areas, axis=0),\n",
    "                xerr=bin_width/2.,\n",
    "                label=f'{label_i}',\n",
    "                fmt='.', markersize=0,\n",
    "                color=f'C{i}', ls='--')\n",
    "ax.legend()\n",
    "ax.set_xscale('log')\n",
    "ax.set_yscale('log')\n",
    "ax.set_xlim(5e5, 1e11)\n",
    "ax.set_ylim(1e0, 5e4)\n",
    "ax.set_xlabel(r'$E_{\\nu}$ / GeV')\n",
    "ax.set_ylabel(r'$A_{\\mathrm{eff}} \\,\\, / \\,\\, \\mathrm{m}^2$')\n"
   ]
  },
  {
   "cell_type": "code",
   "execution_count": 18,
   "metadata": {},
   "outputs": [
    {
     "name": "stderr",
     "output_type": "stream",
     "text": [
      "No artists with labels found to put in legend.  Note that artists whose label start with an underscore are ignored when legend() is called with no argument.\n"
     ]
    },
    {
     "name": "stdout",
     "output_type": "stream",
     "text": [
      "33.552057762520704\n"
     ]
    },
    {
     "data": {
      "text/plain": [
       "Text(0, 0.5, '$A_{\\\\mathrm{eff}} \\\\,\\\\, / \\\\,\\\\, \\\\mathrm{m}^2$')"
      ]
     },
     "execution_count": 18,
     "metadata": {},
     "output_type": "execute_result"
    },
    {
     "data": {
      "image/png": "[encoded data removed]",
      "text/plain": [
       "<Figure size 640x480 with 1 Axes>"
      ]
     },
     "metadata": {},
     "output_type": "display_data"
    }
   ],
   "source": [
    "czen_bins = np.arange(-1,1,0.03624000000000007) # to match Aachen (bizarre, but okay...)\n",
    "czen_bin_center = (czen_bins[1:] + czen_bins[:-1]) / 2\n",
    "czen_bin_width = np.diff(czen_bins)\n",
    "\n",
    "print(bin_center[50]/1E6)\n",
    "\n",
    "fig, ax = plt.subplots()\n",
    "for i, (areas, label_i) in enumerate(zip([areas_from_nue_wzen, areas_from_numu_wzen, areas_from_nutau_wzen],\n",
    "                                        ['NuE', 'NuMu', 'NuTau'])):\n",
    "    ax.plot(czen_bin_center, np.sum(areas, axis=0)[:,50], drawstyle='steps-mid', # this time, project along energy\n",
    "            color=f'C{i}')\n",
    "ax.legend()\n",
    "# ax.set_xscale('log')\n",
    "# ax.set_yscale('log')\n",
    "# ax.set_xlim(5e5, 1e11)\n",
    "# ax.set_ylim(1e0, 5e4)\n",
    "ax.set_xlabel(r'czen')\n",
    "ax.set_ylabel(r'$A_{\\mathrm{eff}} \\,\\, / \\,\\, \\mathrm{m}^2$')"
   ]
  },
  {
   "cell_type": "code",
   "execution_count": 19,
   "metadata": {},
   "outputs": [
    {
     "name": "stdout",
     "output_type": "stream",
     "text": [
      "[0.00000000e+00 0.00000000e+00 0.00000000e+00 0.00000000e+00\n",
      " 0.00000000e+00 0.00000000e+00 0.00000000e+00 0.00000000e+00\n",
      " 0.00000000e+00 0.00000000e+00 0.00000000e+00 0.00000000e+00\n",
      " 0.00000000e+00 3.39850976e-03 1.45153826e-02 2.65368137e-02\n",
      " 8.39151696e-02 1.34442886e-01 2.16894843e-01 2.83457172e-01\n",
      " 4.31348471e-01 7.17158811e-01 8.00910342e-01 1.05843773e+00\n",
      " 1.50275682e+00 1.98623316e+00 2.49746625e+00 3.37447793e+00\n",
      " 4.50193356e+00 5.74877684e+00 6.92043232e+00 8.17992946e+00\n",
      " 1.06288929e+01 2.06854723e+01 3.55506781e+01 1.82354445e+02\n",
      " 1.62444231e+02 3.58542269e+01 3.42554126e+01 4.70452923e+01\n",
      " 3.92561085e+01 4.68489249e+01 5.51099301e+01 5.94394175e+01\n",
      " 6.70273976e+01 7.35180469e+01 8.14162365e+01 9.12969450e+01\n",
      " 1.01472697e+02 1.16295395e+02 1.29643217e+02 1.42176628e+02\n",
      " 1.57732067e+02 1.76070240e+02 1.99992521e+02 2.20216448e+02\n",
      " 2.37790360e+02 2.66927425e+02 3.02099497e+02 3.20382319e+02\n",
      " 3.49913656e+02 3.84810349e+02 4.25442628e+02 4.71200374e+02\n",
      " 5.10114213e+02 5.47823247e+02 5.97460353e+02 6.58700222e+02\n",
      " 7.06037711e+02 7.82123591e+02 8.61196317e+02 9.26769157e+02\n",
      " 1.00220675e+03 1.09509882e+03 1.17720494e+03 1.25754646e+03\n",
      " 1.36670841e+03 1.48789539e+03 1.59888565e+03 1.68941692e+03\n",
      " 1.83614473e+03 1.96464061e+03 2.05041595e+03 2.23291607e+03\n",
      " 2.39970206e+03 2.53406539e+03 2.70996334e+03 2.86877334e+03\n",
      " 3.02795133e+03 3.28261256e+03 3.44262082e+03 3.63021812e+03\n",
      " 3.84641125e+03 4.08360394e+03 4.24073076e+03 4.55566116e+03\n",
      " 4.77243526e+03 4.96945350e+03 5.15256617e+03 5.39738764e+03\n",
      " 5.88846879e+03 6.11914275e+03 6.37639226e+03 6.64437312e+03\n",
      " 6.93756426e+03 7.27526191e+03 7.52231701e+03 8.04365699e+03\n",
      " 8.40039506e+03 8.79927585e+03 8.97225910e+03 9.45041263e+03\n",
      " 9.98205805e+03 1.04681875e+04 1.07927938e+04 1.10394808e+04\n",
      " 1.14621787e+04 1.21794136e+04 1.28918696e+04 1.27699638e+04\n",
      " 9.73609211e+03 9.07149576e+03 8.81662443e+03 8.66641815e+03\n",
      " 8.57689608e+03 8.49338263e+03 8.38425419e+03 8.25794117e+03\n",
      " 8.08998140e+03 8.01587157e+03 7.96913320e+03 7.95739192e+03\n",
      " 7.87912655e+03 7.78097923e+03 7.47181179e+03 7.46600922e+03\n",
      " 6.86016328e+03 5.90284579e+03 6.08507447e+03 6.07084052e+03]\n",
      "131\n",
      "131\n"
     ]
    }
   ],
   "source": [
    "# first, per flavor\n",
    "total_aeff_nue = np.sum(areas_from_nue, axis=0)\n",
    "total_aeff_numu = np.sum(areas_from_numu, axis=0)\n",
    "total_aeff_nutau = np.sum(areas_from_nutau, axis=0)\n",
    "\n",
    "total_aeff_sr_nue = total_aeff_nue * 4 * np.pi # convert to m2 str (mult by 4pi)\n",
    "total_aeff_sr_numu = total_aeff_numu * 4 * np.pi # convert to m2 str (mult by 4pi)\n",
    "total_aeff_sr_nutau = total_aeff_nutau * 4 * np.pi # convert to m2 str (mult by 4pi)\n",
    "\n",
    "np.savez('ehenextgen_aeff_per_flavor.npz',\n",
    "         energy_bin_center_GeV=bin_center,\n",
    "         aeff_m2sr_nue=total_aeff_sr_nue,\n",
    "         aeff_m2sr_numu=total_aeff_sr_numu,\n",
    "         aeff_m2sr_nutau=total_aeff_sr_nutau\n",
    "         )\n",
    "\n",
    "total_aeff = np.sum(areas_from_nue, axis=0) + np.sum(areas_from_numu, axis=0) + np.sum(areas_from_nutau, axis=0)\n",
    "\n",
    "# average the effective areas together to get total sensitivity to the neutrino flux\n",
    "total_aeff = total_aeff/3. # make flavor average\n",
    "print(total_aeff)\n",
    "\n",
    "total_aeff_vs_zen = np.sum(np.asarray(areas_from_nue_wzen),axis=0) + np.sum(np.asarray(areas_from_numu_wzen),axis=0) + np.sum(np.asarray(areas_from_nutau_wzen),axis=0)\n",
    "total_aeff_vs_zen = total_aeff_vs_zen/3.\n",
    "np.savez('ehenextgen_total_aeff_vs_e_and_zen_scale.npz',\n",
    "         energy_bins=bin_center,\n",
    "         czen_bins=czen_bins,\n",
    "         avg_aeff_m2=total_aeff_vs_zen,\n",
    "         )\n",
    "\n",
    "# smooth out the effective area a bit\n",
    "bin_center = bin_center[5:-4] # drop 10 bins\n",
    "total_aeff = np.convolve(total_aeff, np.ones(10)/10, mode='valid') # average\n",
    "total_aeff_sr = total_aeff * 4 * np.pi # convert to m2 str (mult by 4pi)\n",
    "\n",
    "print(len(bin_center))\n",
    "print(len(total_aeff_sr))\n",
    "\n",
    "np.savez('ehenextgen_total_aeff_scale.npz',\n",
    "         bin_center=bin_center,\n",
    "         avg_aeff_m2sr=total_aeff_sr\n",
    "         )\n",
    "\n",
    "\n"
   ]
  },
  {
   "cell_type": "code",
   "execution_count": 20,
   "metadata": {},
   "outputs": [],
   "source": [
    "from old_analysis_results import diff_limit_9yr, diff_limit_7yr, LIVETIME_9YR\n",
    "LIVETIME_12YR = 12 * 365 * 24 * 3600\n",
    "from ehefluxes import fluxes\n",
    "CM2_IN_M2 = 1E4\n",
    "\n",
    "flux_spl = fluxes.EHEFlux('ahlers_gzk')\n",
    "flux_spl_2010 = fluxes.EHEFlux('cosmogenic_ahlers2010_1E18')\n",
    "\n",
    "def simple_e2_differential_limit(energies, total_aeff_sr, livetime):\n",
    "        # input \n",
    "        # energies (in real units, GeV)\n",
    "        # flavor averaged effective area (in m2)\n",
    "        # livetime (in seconds)\n",
    "        \n",
    "        # returns\n",
    "        # E^2 * F(E) (GeV/cm2/s/sr)\n",
    "        n_90 = 2.44\n",
    "        return n_90 * energies / (livetime * np.log(10) * total_aeff_sr)"
   ]
  },
  {
   "cell_type": "code",
   "execution_count": 21,
   "metadata": {},
   "outputs": [
    {
     "data": {
      "text/plain": [
       "Text(0, 0.5, 'E$^2 \\\\cdot \\\\Phi$ / (GeV cm$^{-2}$ sr$^{-1}$ s$^{-1}$)')"
      ]
     },
     "execution_count": 21,
     "metadata": {},
     "output_type": "execute_result"
    },
    {
     "data": {
      "image/png": "[encoded data removed]",
      "text/plain": [
       "<Figure size 640x480 with 1 Axes>"
      ]
     },
     "metadata": {},
     "output_type": "display_data"
    }
   ],
   "source": [
    "\n",
    "\n",
    "fig, ax = plt.subplots()\n",
    "\n",
    "ax.plot(bin_center,\n",
    "        simple_e2_differential_limit(bin_center,\n",
    "                                  total_aeff_sr*CM2_IN_M2,\n",
    "                                  LIVETIME_9YR),\n",
    "        label='New EHE 8.15yrs IC86 equiv, sensitivity')\n",
    "ax.plot(bin_center,\n",
    "        simple_e2_differential_limit(bin_center,\n",
    "                                  total_aeff_sr*CM2_IN_M2,\n",
    "                                  LIVETIME_12YR),\n",
    "        label='New EHE 12yrs, sensitivity')\n",
    "ax.plot(diff_limit_9yr[:, 0], diff_limit_9yr[:, 1], label='EHE 9yrs', color='k')\n",
    "ax.plot(diff_limit_7yr[:, 0], diff_limit_7yr[:, 1], label='EHE 7yrs', color='k', ls='--')\n",
    "\n",
    "energies = np.logspace(5, 12, 141)\n",
    "\n",
    "ax.plot(energies, energies**2 * flux_spl(energies, 'sum'), label='Ahlers 2012')\n",
    "ax.plot(energies, energies**2 * flux_spl_2010(energies, 'sum'), label='Ahlers 2010 1 EeV')\n",
    "\n",
    "ax.set_xscale('log')\n",
    "ax.set_yscale('log')\n",
    "ax.set_xlabel('E / GeV')\n",
    "ax.legend(bbox_to_anchor=(1.,0.85,0.,0))\n",
    "ax.set_ylim(1e-10, 1e-6)\n",
    "ax.set_xlim(1e6, 1e11)\n",
    "ax.set_ylabel(r'E$^2 \\cdot \\Phi$ / (GeV cm$^{-2}$ sr$^{-1}$ s$^{-1}$)')"
   ]
  },
  {
   "cell_type": "code",
   "execution_count": 22,
   "metadata": {},
   "outputs": [
    {
     "data": {
      "text/plain": [
       "Text(6000000.0, 3e-07, 'IceCube Work-in-progress')"
      ]
     },
     "execution_count": 22,
     "metadata": {},
     "output_type": "execute_result"
    },
    {
     "data": {
      "image/png": "[encoded data removed]",
      "text/plain": [
       "<Figure size 640x480 with 1 Axes>"
      ]
     },
     "metadata": {},
     "output_type": "display_data"
    }
   ],
   "source": [
    "fig, ax = plt.subplots()\n",
    "ax.plot(bin_center,\n",
    "        simple_e2_differential_limit(bin_center,\n",
    "                                  total_aeff_sr*CM2_IN_M2,\n",
    "                                  LIVETIME_12YR),\n",
    "        label='EHE UL 12yrs, sensitivity (this work)')\n",
    "ax.plot(diff_limit_9yr[:, 0], diff_limit_9yr[:, 1], label='EHE UL 9yrs', color='k')\n",
    "ax.plot(diff_limit_7yr[:, 0], diff_limit_7yr[:, 1], label='EHE UL 7yrs', color='k', ls='--')\n",
    "\n",
    "energies = np.logspace(5, 12, 141)\n",
    "\n",
    "ax.plot(energies, energies**2 * flux_spl_2010(energies, 'sum'), label='Ahlers 2010 1 EeV', color='grey')\n",
    "ax.plot(energies, energies**2 * flux_spl(energies, 'sum'), label='Ahlers 2012', color='grey', ls='--')\n",
    "\n",
    "ax.set_xscale('log')\n",
    "ax.set_yscale('log')\n",
    "ax.set_xlabel('E / GeV')\n",
    "ax.legend(bbox_to_anchor=(1.,0.85,0.,0))\n",
    "ax.set_ylim(1e-10, 5e-7)\n",
    "ax.set_xlim(5e6, 1e11)\n",
    "ax.set_ylabel(r'E$^2 \\cdot \\Phi$ / (GeV cm$^{-2}$ sr$^{-1}$ s$^{-1}$)')\n",
    "ax.text(6e6, 3e-7, 'IceCube Work-in-progress', color='red')"
   ]
  },
  {
   "cell_type": "code",
   "execution_count": null,
   "metadata": {},
   "outputs": [],
   "source": []
  }
 ],
 "metadata": {
  "kernelspec": {
   "display_name": "ehe",
   "language": "python",
   "name": "python3"
  },
  "language_info": {
   "codemirror_mode": {
    "name": "ipython",
    "version": 3
   },
   "file_extension": ".py",
   "mimetype": "text/x-python",
   "name": "python",
   "nbconvert_exporter": "python",
   "pygments_lexer": "ipython3",
   "version": "3.11.4"
  }
 },
 "nbformat": 4,
 "nbformat_minor": 2
}
