{
 "cells": [
  {
   "cell_type": "code",
   "execution_count": null,
   "metadata": {},
   "outputs": [],
   "source": [
    "import h5py\n",
    "import numpy as np\n",
    "import matplotlib.pyplot as plt\n",
    "import matplotlib.colors as colors\n",
    "from matplotlib import style\n",
    "import tables\n",
    "import copy\n",
    "import yaml\n",
    "\n",
    "# the config file holds paths to the hdf5 files (in this example)\n",
    "cfg_file = 'config.yaml'\n",
    "cfg_file = yaml.safe_load(open(cfg_file))"
   ]
  },
  {
   "cell_type": "code",
   "execution_count": null,
   "metadata": {},
   "outputs": [],
   "source": [
    "# want an E^-2 flux\n",
    "def power_law_flux(e_in_gev):\n",
    "    return 1E-8 * (e_in_gev**-2.)\n",
    "\n",
    "livetime = 1 # make it Hz"
   ]
  },
  {
   "attachments": {},
   "cell_type": "markdown",
   "metadata": {},
   "source": [
    "### How to harvest weights from juliet files\n"
   ]
  },
  {
   "cell_type": "code",
   "execution_count": null,
   "metadata": {},
   "outputs": [],
   "source": [
    "import weights_helper as weighting\n",
    "\n",
    "# empty arrays to hold weights and charge\n",
    "ehe_weights = np.asarray([])\n",
    "ehe_energy_weights = None # for plotting in true space\n",
    "\n",
    "energy_bins, energy_bin_centers = weighting.get_juliet_enu_binning()"
   ]
  },
  {
   "cell_type": "code",
   "execution_count": null,
   "metadata": {},
   "outputs": [],
   "source": [
    "\n",
    "# juliet comes in five injected species, and two injected levels\n",
    "# have to loop over all of them\n",
    "juliet_species = [\"nue\", \"numu\", \"nutau\", \"mu\", \"tau\"]\n",
    "juliet_energy_levels = [\"high_energy\", \"very_high_energy\"]\n",
    "juliet_species = ['nue']\n",
    "juliet_energy_levels = [\"high_energy\"]\n",
    "\n",
    "# loop over all Juliet species\n",
    "for s in juliet_species:\n",
    "    for l in juliet_energy_levels:\n",
    "            \n",
    "        print(f\"Working on juliet {s}, {l}\")\n",
    "        the_f = tables.open_file(cfg_file['juliet'][s][l]['file'])\n",
    "\n",
    "        # get weighting information\n",
    "        weight_dict, prop_matrix, evts_per_file = weighting.get_juliet_weightdict_and_propmatrix(the_f)\n",
    "        evts_per_file = weighting.correct_events_per_file(s, l)\n",
    "        n_gen = cfg_file['juliet'][s][l]['n_files'] * evts_per_file\n",
    "    \n",
    "        # individual event rates for this flux assumption\n",
    "        weights = weighting.calc_juliet_weight_from_weight_dict_and_prop_matrix(\n",
    "            weight_dict=weight_dict, prop_matrix=prop_matrix, \n",
    "            flux=power_law_flux, n_gen=n_gen, livetime=livetime\n",
    "        )\n",
    "        ehe_weights = np.concatenate((ehe_weights, weights))\n",
    "        \n",
    "        # total contribution to overall event rate in true energy space\n",
    "        the_enu_weights = weighting.calc_juliet_flux_weight(\n",
    "            weight_dict = weight_dict, prop_matrix = prop_matrix, \n",
    "            flux= power_law_flux, n_gen = n_gen, livetime=livetime,\n",
    "        )\n",
    "        if ehe_energy_weights is None:\n",
    "            ehe_energy_weights = copy.deepcopy(the_enu_weights)\n",
    "        else:\n",
    "            ehe_energy_weights += copy.deepcopy(the_enu_weights)\n",
    "\n",
    "        the_f.close()"
   ]
  },
  {
   "cell_type": "code",
   "execution_count": null,
   "metadata": {},
   "outputs": [],
   "source": [
    "# save\n",
    "np.savez('oneweight_information.npz',\n",
    "         energy_bin_centers=energy_bin_centers,\n",
    "         energy_bins=energy_bins,\n",
    "         ehe_energy_weights=ehe_energy_weights,\n",
    "         propagated_weights=ehe_weights\n",
    "         )"
   ]
  },
  {
   "attachments": {},
   "cell_type": "markdown",
   "metadata": {},
   "source": [
    "### Event rate in true neutrino energy"
   ]
  },
  {
   "cell_type": "code",
   "execution_count": null,
   "metadata": {},
   "outputs": [],
   "source": [
    "fig2, ax2 = plt.subplots(1, 1 , figsize=(7,5))\n",
    "ax2.hist(energy_bin_centers, bins=energy_bins,\n",
    "        weights=ehe_energy_weights, histtype='step', linewidth=3,\n",
    "        density=True\n",
    "        )\n",
    "ax2.set_ylabel(\"PDF\".format(livetime/60/60/24))\n",
    "ax2.set_xlabel(r'Neutrino Energy [GeV]')\n",
    "ax2.set_xscale('log')\n",
    "ax2.set_yscale('log')"
   ]
  }
 ],
 "metadata": {
  "kernelspec": {
   "display_name": "ehe",
   "language": "python",
   "name": "python3"
  },
  "language_info": {
   "codemirror_mode": {
    "name": "ipython",
    "version": 3
   },
   "file_extension": ".py",
   "mimetype": "text/x-python",
   "name": "python",
   "nbconvert_exporter": "python",
   "pygments_lexer": "ipython3"
  }
 },
 "nbformat": 4,
 "nbformat_minor": 2
}
