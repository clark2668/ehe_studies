{
 "cells": [
  {
   "cell_type": "code",
   "execution_count": null,
   "metadata": {},
   "outputs": [],
   "source": [
    "import h5py\n",
    "import numpy as np\n",
    "import matplotlib.pyplot as plt\n",
    "import matplotlib.colors as colors\n",
    "from matplotlib import style\n",
    "import tables\n",
    "import copy\n",
    "import yaml\n",
    "\n",
    "# want an E^-2 flux\n",
    "def power_law_flux(e_in_gev):\n",
    "    return 1E-8 * (e_in_gev**-2.)"
   ]
  },
  {
   "attachments": {},
   "cell_type": "markdown",
   "metadata": {},
   "source": [
    "### Harvest weights from numpy file"
   ]
  },
  {
   "cell_type": "code",
   "execution_count": null,
   "metadata": {},
   "outputs": [],
   "source": [
    "# load up saved onweights\n",
    "data = np.load('oneweight_information.npz')"
   ]
  },
  {
   "attachments": {},
   "cell_type": "markdown",
   "metadata": {},
   "source": [
    "### Event rate in true neutrino energy"
   ]
  },
  {
   "cell_type": "code",
   "execution_count": null,
   "metadata": {},
   "outputs": [],
   "source": [
    "# construct the CDF (which we need for resampling)\n",
    "hist, bins = np.histogram(data['energy_bin_centers'],bins=data['energy_bins'],weights=data['ehe_energy_weights'])\n",
    "bin_midpoints = bins[:-1] + np.diff(bins)/2\n",
    "cdf = np.cumsum(hist)\n",
    "cdf = cdf/cdf[-1]\n",
    "\n",
    "def pick_random(cdf, bin_midpoints, num_needed):\n",
    "        values = np.random.rand(num_needed)\n",
    "        value_bins = np.searchsorted(cdf, values)\n",
    "        return bin_midpoints[value_bins]"
   ]
  },
  {
   "cell_type": "code",
   "execution_count": null,
   "metadata": {},
   "outputs": [],
   "source": [
    "# resample the CDF\n",
    "random_from_cdf = pick_random(cdf, bin_midpoints, 10000)\n",
    "\n",
    "# plot original data along with resampled data to convince ourselves we did it right\n",
    "fig2, ax2 = plt.subplots(1, 1 , figsize=(7,5))\n",
    "ax2.hist(data['energy_bin_centers'], bins=data['energy_bins'],\n",
    "        weights=data['ehe_energy_weights'], histtype='step', linewidth=3,\n",
    "        )\n",
    "ax2.hist(random_from_cdf, bins=data['energy_bins'], histtype='step', linewidth=3)\n",
    "ax2.set_ylabel(\"Rate-ish\")\n",
    "ax2.set_xlabel(r'Neutrino Energy [GeV]')\n",
    "ax2.set_xscale('log')\n",
    "ax2.set_yscale('log')"
   ]
  },
  {
   "attachments": {},
   "cell_type": "markdown",
   "metadata": {},
   "source": [
    "## Build the \"one weight\""
   ]
  },
  {
   "cell_type": "code",
   "execution_count": null,
   "metadata": {},
   "outputs": [],
   "source": [
    "propagated_weights = data['propagated_weights']\n",
    "true_e = pick_random(cdf, bin_midpoints, len(propagated_weights))\n",
    "one_weights = propagated_weights/power_law_flux(true_e)"
   ]
  }
 ],
 "metadata": {
  "kernelspec": {
   "display_name": "ehe",
   "language": "python",
   "name": "python3"
  },
  "language_info": {
   "codemirror_mode": {
    "name": "ipython",
    "version": 3
   },
   "file_extension": ".py",
   "mimetype": "text/x-python",
   "name": "python",
   "nbconvert_exporter": "python",
   "pygments_lexer": "ipython3"
  }
 },
 "nbformat": 4,
 "nbformat_minor": 2
}
