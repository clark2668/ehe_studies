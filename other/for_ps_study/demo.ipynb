{
 "cells": [
  {
   "cell_type": "code",
   "execution_count": null,
   "metadata": {},
   "outputs": [],
   "source": [
    "import h5py\n",
    "import numpy as np\n",
    "import matplotlib.pyplot as plt\n",
    "import matplotlib.colors as colors\n",
    "from matplotlib import style\n",
    "import tables\n",
    "import copy\n",
    "import yaml\n",
    "\n",
    "# the config file holds paths to the hdf5 files (in this example)\n",
    "cfg_file = 'config.yaml'\n",
    "cfg_file = yaml.safe_load(open(cfg_file))"
   ]
  },
  {
   "cell_type": "code",
   "execution_count": null,
   "metadata": {},
   "outputs": [],
   "source": [
    "# we need to setup a GZK flux to weight to\n",
    "# see docs for use: https://github.com/clark2668/ehefluxes\n",
    "from functools import partial\n",
    "from ehefluxes import fluxes\n",
    "gzk_flux = fluxes.EHEFlux(\"cosmogenic_ahlers2010_1E18\") # choose a model and instiate it\n",
    "gzk_partial = partial(gzk_flux, which_species=\"nue_sum\") # nue_sum = nue + nuebar\n",
    "\n",
    "# make a livetime assumption\n",
    "livetime = 365 * 24 * 60 * 60"
   ]
  },
  {
   "attachments": {},
   "cell_type": "markdown",
   "metadata": {},
   "source": [
    "### How to harvest weights from juliet files\n"
   ]
  },
  {
   "cell_type": "code",
   "execution_count": null,
   "metadata": {},
   "outputs": [],
   "source": [
    "import weights_helper as weighting\n",
    "\n",
    "# empty arrays to hold weights and charge\n",
    "ehe_weights = np.asarray([])\n",
    "ehe_charge = np.asarray([])\n",
    "ehe_energy_weights = None # for plotting in true space\n",
    "\n",
    "# these are for calculating effective areas; one per flavor\n",
    "nu_areas_sum = {\n",
    "    \"nue\": None,\n",
    "    \"numu\": None,\n",
    "    \"nutau\": None\n",
    "}\n",
    "energy_bins, energy_bin_centers = weighting.get_juliet_enu_binning()"
   ]
  },
  {
   "cell_type": "code",
   "execution_count": null,
   "metadata": {},
   "outputs": [],
   "source": [
    "\n",
    "# juliet comes in five injected species, and two injected levels\n",
    "# have to loop over all of them\n",
    "juliet_species = [\"nue\", \"numu\", \"nutau\", \"mu\", \"tau\"]\n",
    "juliet_energy_levels = [\"high_energy\", \"very_high_energy\"]\n",
    "# juliet_species = ['nue']\n",
    "# juliet_energy_levels = [\"high_energy\"]\n",
    "\n",
    "# loop over all Juliet species\n",
    "for s in juliet_species:\n",
    "    for l in juliet_energy_levels:\n",
    "            \n",
    "        print(f\"Working on juliet {s}, {l}\")\n",
    "        the_f = tables.open_file(cfg_file['juliet'][s][l]['file'])\n",
    "\n",
    "        # get the variable of interest\n",
    "        charge = the_f.get_node(f'/Homogenized_QTot').col(f'value')\n",
    "        ehe_charge = np.concatenate((ehe_charge, charge))\n",
    "        # and some truth variables\n",
    "        energies = the_f.get_node('/I3JulietPrimaryParticle').col('energy')\n",
    "\n",
    "        # get weighting information\n",
    "        weight_dict, prop_matrix, evts_per_file = weighting.get_juliet_weightdict_and_propmatrix(the_f)\n",
    "        evts_per_file = weighting.correct_events_per_file(s, l)\n",
    "        n_gen = cfg_file['juliet'][s][l]['n_files'] * evts_per_file\n",
    "    \n",
    "        # calculate the weights per event for this flux model; this takes some time!\n",
    "        # We need to convolve over the propagation matrices contining earth absorption\n",
    "        # and primary flux -> observable particle conversion.\n",
    "        weights = weighting.calc_juliet_weight_from_weight_dict_and_prop_matrix(\n",
    "            weight_dict=weight_dict, prop_matrix=prop_matrix, \n",
    "            flux=gzk_partial, n_gen=n_gen, livetime=livetime\n",
    "        )\n",
    "        ehe_weights = np.concatenate((ehe_weights, weights))\n",
    "        \n",
    "        # We can also project this through into true neutrino energy space.\n",
    "        # Remember, a juliet event is injected *at the detector*.\n",
    "        # So a single juliet event contributes to many energy bins\n",
    "        # in \"true surface fluxes.\"\n",
    "        # So we can't compute \"which bin\" an event lives in in \"true\" space.\n",
    "        # It only works as an ensemble.\n",
    "        # So the output, \"the_enu_weights\", has length \"number of true neutrino energy bins\".\n",
    "        # This is unlike the method above, which can return a rate for that event in observable space.\n",
    "        # Confused yet? :) \n",
    "        the_enu_weights = weighting.calc_juliet_flux_weight(\n",
    "            weight_dict = weight_dict, prop_matrix = prop_matrix, \n",
    "            flux= gzk_partial, n_gen = n_gen, livetime=livetime,\n",
    "        )\n",
    "        if ehe_energy_weights is None:\n",
    "            ehe_energy_weights = copy.deepcopy(the_enu_weights)\n",
    "        else:\n",
    "            ehe_energy_weights += copy.deepcopy(the_enu_weights)\n",
    "        \n",
    "        \n",
    "        # finally we can calculate effective area\n",
    "        # each injected type (nue, numu, nutau, mu, tau)\n",
    "        # comes with a 3 dimensional matrix specifying it's contribution\n",
    "        # to the *surface* nue, numu, and nutau flux\n",
    "        # so we have to loop over that\n",
    "        for iN, n in enumerate(nu_areas_sum.keys()):\n",
    "            print(\"  Working on neutrino species {}\".format(n))\n",
    "            prop_i = prop_matrix[iN]\n",
    "            area = weighting.calc_juliet_effective_area(\n",
    "                energies = energies, weight_dict=weight_dict, n_gen = n_gen,\n",
    "                energy_bins = energy_bins,  prop_matrix=prop_i,\n",
    "            )\n",
    "            if nu_areas_sum[n] is None:\n",
    "                nu_areas_sum[n] = copy.deepcopy(area)\n",
    "            else:\n",
    "                nu_areas_sum[n] += copy.deepcopy(area)\n",
    "            del area\n",
    "\n",
    "        the_f.close()"
   ]
  },
  {
   "attachments": {},
   "cell_type": "markdown",
   "metadata": {},
   "source": [
    "### Plots in observable space"
   ]
  },
  {
   "cell_type": "code",
   "execution_count": null,
   "metadata": {},
   "outputs": [],
   "source": [
    "# plot up our observable space\n",
    "fig, ax = plt.subplots(1, 1, figsize=(7,5))\n",
    "charge_bins = np.logspace(4, 8, 31)\n",
    "ax.hist(ehe_charge, weights=ehe_weights, \n",
    "        bins=charge_bins, linewidth=3, histtype='step'\n",
    "        )\n",
    "ax.set_ylabel(\"Events / {:.2f} days\".format(livetime/60/60/24))\n",
    "ax.set_xlabel(\"HQtot [PE]\")\n",
    "ax.set_yscale('log')\n",
    "ax.set_xscale('log')\n",
    "ax.set_ylim([1E-6, 1E-1])\n"
   ]
  },
  {
   "attachments": {},
   "cell_type": "markdown",
   "metadata": {},
   "source": [
    "### Plots in True Neutrino Space"
   ]
  },
  {
   "cell_type": "code",
   "execution_count": null,
   "metadata": {},
   "outputs": [],
   "source": [
    "fig2, ax2 = plt.subplots(1, 1 , figsize=(7,5))\n",
    "ax2.hist(energy_bin_centers, bins=energy_bins,\n",
    "        weights=ehe_energy_weights, histtype='step', linewidth=3\n",
    "        )\n",
    "ax2.set_ylabel(\"Events / {:.2f} days\".format(livetime/60/60/24))\n",
    "ax2.set_xlabel(r'Energy [GeV]')\n",
    "ax2.set_xscale('log')\n",
    "ax2.set_yscale('log')"
   ]
  },
  {
   "attachments": {},
   "cell_type": "markdown",
   "metadata": {},
   "source": [
    "### Plots of effective areas"
   ]
  },
  {
   "cell_type": "code",
   "execution_count": null,
   "metadata": {},
   "outputs": [],
   "source": [
    "fig3, ax3 = plt.subplots(1, 1 , figsize=(7,5))\n",
    "for iN, n in enumerate(nu_areas_sum.keys()):\n",
    "        # sum along axis=0 to sum over all the zenith bins\n",
    "        ax3.plot(energy_bin_centers, nu_areas_sum[n].sum(axis=0),\n",
    "                label=f\"{n}\"\n",
    "                )\n",
    "ax3.set_ylabel(r\"Effective Area [m$^2$]\")\n",
    "ax3.set_xlabel(r'Neutrino Energy [GeV]')\n",
    "ax3.set_xscale('log')\n",
    "ax3.set_yscale('log')\n",
    "ax3.set_xlim([1E5, 1E11])\n",
    "ax3.legend()"
   ]
  }
 ],
 "metadata": {
  "kernelspec": {
   "display_name": "ehe",
   "language": "python",
   "name": "python3"
  },
  "language_info": {
   "codemirror_mode": {
    "name": "ipython",
    "version": 3
   },
   "file_extension": ".py",
   "mimetype": "text/x-python",
   "name": "python",
   "nbconvert_exporter": "python",
   "pygments_lexer": "ipython3"
  }
 },
 "nbformat": 4,
 "nbformat_minor": 2
}
